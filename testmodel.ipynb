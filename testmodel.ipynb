{
 "cells": [
  {
   "cell_type": "code",
   "execution_count": 14,
   "metadata": {},
   "outputs": [
    {
     "name": "stdout",
     "output_type": "stream",
     "text": [
      "Message: Go until jurong point, crazy.. Available only in bugis n great world la e buffet... Cine there got amore wat...\n",
      "Prediction: ham\n",
      "\n",
      "Message: Ok lar... Joking wif u oni...\n",
      "Prediction: ham\n",
      "\n",
      "Message: Free entry in 2 a wkly comp to win FA Cup final tkts 21st May 2005. Text FA to 87121 to receive entry question(std txt rate)T&Cs apply 08452810075over18s\n",
      "Prediction: spam\n",
      "\n",
      "Message: U dun say so early hor... U c already then say...\n",
      "Prediction: ham\n",
      "\n",
      "Message: Nah I dont think he goes to usf, he lives around here though\n",
      "Prediction: ham\n",
      "\n",
      "Message: FreeMsg Hey there darling its been 3 weeks now and no word back! Id like some fun you up for it still? Tb ok! XxX std chgs to send, å£1.50 to rcv\n",
      "Prediction: spam\n",
      "\n",
      "Message: Even my brother is not like to speak with me. They treat me like aids patent.\n",
      "Prediction: ham\n",
      "\n",
      "Message: As per your request Melle Melle (Oru Minnaminunginte Nurungu Vettam) has been set as your callertune for all Callers. Press *9 to copy your friends Callertune\n",
      "Prediction: ham\n",
      "\n",
      "Message: WINNER!! As a valued network customer you have been selected to receivea å£900 prize reward! To claim call 09061701461. Claim code KL341. Valid 12 hours only.\n",
      "Prediction: spam\n",
      "\n",
      "Spam Count: 3\n",
      "Ham Count: 6\n"
     ]
    }
   ],
   "source": [
    "import joblib\n",
    "import numpy as np\n",
    "from sklearn.feature_extraction.text import TfidfVectorizer\n",
    "\n",
    "# Load the trained model and vectorizer\n",
    "loaded_model = joblib.load('spam_detection_model.pkl')\n",
    "tfidf_vectorizer = joblib.load('tfidf_vectorizer.pkl')\n",
    "\n",
    "# Prepare the input data for prediction\n",
    "input_text = [\n",
    "    \n",
    "'Go until jurong point, crazy.. Available only in bugis n great world la e buffet... Cine there got amore wat...',\n",
    "'Ok lar... Joking wif u oni...',\n",
    "'Free entry in 2 a wkly comp to win FA Cup final tkts 21st May 2005. Text FA to 87121 to receive entry question(std txt rate)T&Cs apply 08452810075over18s',\n",
    "'U dun say so early hor... U c already then say...',\n",
    "'Nah I dont think he goes to usf, he lives around here though',\n",
    "'FreeMsg Hey there darling its been 3 weeks now and no word back! Id like some fun you up for it still? Tb ok! XxX std chgs to send, å£1.50 to rcv',\n",
    "'Even my brother is not like to speak with me. They treat me like aids patent.',\n",
    "'As per your request Melle Melle (Oru Minnaminunginte Nurungu Vettam) has been set as your callertune for all Callers. Press *9 to copy your friends Callertune',\n",
    "'WINNER!! As a valued network customer you have been selected to receivea å£900 prize reward! To claim call 09061701461. Claim code KL341. Valid 12 hours only.',\n",
    "]\n",
    "\n",
    "# Transform the input text using the loaded vectorizer\n",
    "input_features = tfidf_vectorizer.transform(input_text)\n",
    "\n",
    "# Make predictions using the loaded model\n",
    "predictions = loaded_model.predict(input_features)\n",
    "\n",
    "# Print the predictions\n",
    "for text, prediction in zip(input_text, predictions):\n",
    "    print(f\"Message: {text}\\nPrediction: {prediction}\\n\")\n",
    "\n",
    "# Count the number of 'spam' and 'ham' predictions\n",
    "spam_count = np.sum(predictions == 'spam')\n",
    "ham_count = np.sum(predictions == 'ham')\n",
    "\n",
    "# Print the counts\n",
    "print(f\"Spam Count: {spam_count}\\nHam Count: {ham_count}\")\n"
   ]
  }
 ],
 "metadata": {
  "kernelspec": {
   "display_name": "Python 3",
   "language": "python",
   "name": "python3"
  },
  "language_info": {
   "codemirror_mode": {
    "name": "ipython",
    "version": 3
   },
   "file_extension": ".py",
   "mimetype": "text/x-python",
   "name": "python",
   "nbconvert_exporter": "python",
   "pygments_lexer": "ipython3",
   "version": "3.11.4"
  },
  "orig_nbformat": 4
 },
 "nbformat": 4,
 "nbformat_minor": 2
}
